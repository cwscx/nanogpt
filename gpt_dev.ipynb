{
  "nbformat": 4,
  "nbformat_minor": 0,
  "metadata": {
    "colab": {
      "provenance": [],
      "authorship_tag": "ABX9TyOaLk7RAIQKetnXsSloOXGi",
      "include_colab_link": true
    },
    "kernelspec": {
      "name": "python3",
      "display_name": "Python 3"
    },
    "language_info": {
      "name": "python"
    }
  },
  "cells": [
    {
      "cell_type": "markdown",
      "metadata": {
        "id": "view-in-github",
        "colab_type": "text"
      },
      "source": [
        "<a href=\"https://colab.research.google.com/github/cwscx/nanogpt/blob/main/gpt_dev.ipynb\" target=\"_parent\"><img src=\"https://colab.research.google.com/assets/colab-badge.svg\" alt=\"Open In Colab\"/></a>"
      ]
    },
    {
      "cell_type": "code",
      "execution_count": 64,
      "metadata": {
        "colab": {
          "base_uri": "https://localhost:8080/"
        },
        "id": "1kBzV3lDJSdW",
        "outputId": "604fa25f-4133-4023-b52b-8e24a1a19303"
      },
      "outputs": [
        {
          "output_type": "stream",
          "name": "stdout",
          "text": [
            "--2025-08-24 18:14:32--  https://raw.githubusercontent.com/karpathy/char-rnn/master/data/tinyshakespeare/input.txt\n",
            "Resolving raw.githubusercontent.com (raw.githubusercontent.com)... 185.199.108.133, 185.199.111.133, 185.199.110.133, ...\n",
            "Connecting to raw.githubusercontent.com (raw.githubusercontent.com)|185.199.108.133|:443... connected.\n",
            "HTTP request sent, awaiting response... 200 OK\n",
            "Length: 1115394 (1.1M) [text/plain]\n",
            "Saving to: ‘input.txt.2’\n",
            "\n",
            "\rinput.txt.2           0%[                    ]       0  --.-KB/s               \rinput.txt.2         100%[===================>]   1.06M  --.-KB/s    in 0.06s   \n",
            "\n",
            "2025-08-24 18:14:32 (16.5 MB/s) - ‘input.txt.2’ saved [1115394/1115394]\n",
            "\n"
          ]
        }
      ],
      "source": [
        "!wget https://raw.githubusercontent.com/karpathy/char-rnn/master/data/tinyshakespeare/input.txt"
      ]
    },
    {
      "cell_type": "code",
      "source": [
        "with open('input.txt', 'r', encoding='utf-8') as f:\n",
        "  text = f.read()"
      ],
      "metadata": {
        "id": "LL5-rNORJcm9"
      },
      "execution_count": 65,
      "outputs": []
    },
    {
      "cell_type": "code",
      "source": [
        "print(len(text))"
      ],
      "metadata": {
        "colab": {
          "base_uri": "https://localhost:8080/"
        },
        "id": "yjO0YjQTJ1j-",
        "outputId": "75b4b299-c13b-437d-d938-09616ce0a63b"
      },
      "execution_count": 66,
      "outputs": [
        {
          "output_type": "stream",
          "name": "stdout",
          "text": [
            "1115394\n"
          ]
        }
      ]
    },
    {
      "cell_type": "code",
      "source": [
        "print(text[:1000])"
      ],
      "metadata": {
        "colab": {
          "base_uri": "https://localhost:8080/"
        },
        "id": "YTAu3ccZKCfg",
        "outputId": "0db208aa-864d-4d1a-a0f9-090a16d83539"
      },
      "execution_count": 67,
      "outputs": [
        {
          "output_type": "stream",
          "name": "stdout",
          "text": [
            "First Citizen:\n",
            "Before we proceed any further, hear me speak.\n",
            "\n",
            "All:\n",
            "Speak, speak.\n",
            "\n",
            "First Citizen:\n",
            "You are all resolved rather to die than to famish?\n",
            "\n",
            "All:\n",
            "Resolved. resolved.\n",
            "\n",
            "First Citizen:\n",
            "First, you know Caius Marcius is chief enemy to the people.\n",
            "\n",
            "All:\n",
            "We know't, we know't.\n",
            "\n",
            "First Citizen:\n",
            "Let us kill him, and we'll have corn at our own price.\n",
            "Is't a verdict?\n",
            "\n",
            "All:\n",
            "No more talking on't; let it be done: away, away!\n",
            "\n",
            "Second Citizen:\n",
            "One word, good citizens.\n",
            "\n",
            "First Citizen:\n",
            "We are accounted poor citizens, the patricians good.\n",
            "What authority surfeits on would relieve us: if they\n",
            "would yield us but the superfluity, while it were\n",
            "wholesome, we might guess they relieved us humanely;\n",
            "but they think we are too dear: the leanness that\n",
            "afflicts us, the object of our misery, is as an\n",
            "inventory to particularise their abundance; our\n",
            "sufferance is a gain to them Let us revenge this with\n",
            "our pikes, ere we become rakes: for the gods know I\n",
            "speak this in hunger for bread, not in thirst for revenge.\n",
            "\n",
            "\n"
          ]
        }
      ]
    },
    {
      "cell_type": "code",
      "source": [
        "sorted_chars: int = sorted(list(set(text)))\n",
        "vocab_size: int = len(sorted_chars)\n",
        "print(''.join(sorted_chars))\n",
        "print(vocab_size)"
      ],
      "metadata": {
        "colab": {
          "base_uri": "https://localhost:8080/"
        },
        "id": "Gvis90n1KFLS",
        "outputId": "d2e52193-497b-4016-bebf-24a6870f07f6"
      },
      "execution_count": 68,
      "outputs": [
        {
          "output_type": "stream",
          "name": "stdout",
          "text": [
            "\n",
            " !$&',-.3:;?ABCDEFGHIJKLMNOPQRSTUVWXYZabcdefghijklmnopqrstuvwxyz\n",
            "65\n"
          ]
        }
      ]
    },
    {
      "cell_type": "code",
      "source": [
        "charToIndex = {}\n",
        "indexToChar = {}\n",
        "for i, char in enumerate(sorted_chars):\n",
        "  charToIndex[char] = i;\n",
        "  indexToChar[i] = char\n",
        "\n",
        "def encode(text: str) -> list[int]:\n",
        "  encoded = []\n",
        "  for char in text:\n",
        "    encoded.append(charToIndex[char])\n",
        "  return encoded\n",
        "\n",
        "def decode(encoded: list[int]) -> str:\n",
        "  chars = []\n",
        "  for token in encoded:\n",
        "    chars.append(indexToChar[token])\n",
        "  return ''.join(chars)\n",
        "\n",
        "print(encode(\"hii there\"))\n",
        "print(decode(encode(\"hii there\")))"
      ],
      "metadata": {
        "id": "Rm7P79k6NWlZ",
        "colab": {
          "base_uri": "https://localhost:8080/"
        },
        "outputId": "b86ac196-ed67-4258-a02e-ccd30632cea4"
      },
      "execution_count": 69,
      "outputs": [
        {
          "output_type": "stream",
          "name": "stdout",
          "text": [
            "[46, 47, 47, 1, 58, 46, 43, 56, 43]\n",
            "hii there\n"
          ]
        }
      ]
    },
    {
      "cell_type": "code",
      "source": [
        "import torch\n",
        "data = torch.tensor(encode(text), dtype=torch.long)\n",
        "print(data.shape, data.dtype)\n",
        "print(data[:1000])"
      ],
      "metadata": {
        "id": "kTuByWk6R3F9",
        "colab": {
          "base_uri": "https://localhost:8080/"
        },
        "outputId": "77af0367-1ba3-41d7-98f2-55bc4cf33f18"
      },
      "execution_count": 70,
      "outputs": [
        {
          "output_type": "stream",
          "name": "stdout",
          "text": [
            "torch.Size([1115394]) torch.int64\n",
            "tensor([18, 47, 56, 57, 58,  1, 15, 47, 58, 47, 64, 43, 52, 10,  0, 14, 43, 44,\n",
            "        53, 56, 43,  1, 61, 43,  1, 54, 56, 53, 41, 43, 43, 42,  1, 39, 52, 63,\n",
            "         1, 44, 59, 56, 58, 46, 43, 56,  6,  1, 46, 43, 39, 56,  1, 51, 43,  1,\n",
            "        57, 54, 43, 39, 49,  8,  0,  0, 13, 50, 50, 10,  0, 31, 54, 43, 39, 49,\n",
            "         6,  1, 57, 54, 43, 39, 49,  8,  0,  0, 18, 47, 56, 57, 58,  1, 15, 47,\n",
            "        58, 47, 64, 43, 52, 10,  0, 37, 53, 59,  1, 39, 56, 43,  1, 39, 50, 50,\n",
            "         1, 56, 43, 57, 53, 50, 60, 43, 42,  1, 56, 39, 58, 46, 43, 56,  1, 58,\n",
            "        53,  1, 42, 47, 43,  1, 58, 46, 39, 52,  1, 58, 53,  1, 44, 39, 51, 47,\n",
            "        57, 46, 12,  0,  0, 13, 50, 50, 10,  0, 30, 43, 57, 53, 50, 60, 43, 42,\n",
            "         8,  1, 56, 43, 57, 53, 50, 60, 43, 42,  8,  0,  0, 18, 47, 56, 57, 58,\n",
            "         1, 15, 47, 58, 47, 64, 43, 52, 10,  0, 18, 47, 56, 57, 58,  6,  1, 63,\n",
            "        53, 59,  1, 49, 52, 53, 61,  1, 15, 39, 47, 59, 57,  1, 25, 39, 56, 41,\n",
            "        47, 59, 57,  1, 47, 57,  1, 41, 46, 47, 43, 44,  1, 43, 52, 43, 51, 63,\n",
            "         1, 58, 53,  1, 58, 46, 43,  1, 54, 43, 53, 54, 50, 43,  8,  0,  0, 13,\n",
            "        50, 50, 10,  0, 35, 43,  1, 49, 52, 53, 61,  5, 58,  6,  1, 61, 43,  1,\n",
            "        49, 52, 53, 61,  5, 58,  8,  0,  0, 18, 47, 56, 57, 58,  1, 15, 47, 58,\n",
            "        47, 64, 43, 52, 10,  0, 24, 43, 58,  1, 59, 57,  1, 49, 47, 50, 50,  1,\n",
            "        46, 47, 51,  6,  1, 39, 52, 42,  1, 61, 43,  5, 50, 50,  1, 46, 39, 60,\n",
            "        43,  1, 41, 53, 56, 52,  1, 39, 58,  1, 53, 59, 56,  1, 53, 61, 52,  1,\n",
            "        54, 56, 47, 41, 43,  8,  0, 21, 57,  5, 58,  1, 39,  1, 60, 43, 56, 42,\n",
            "        47, 41, 58, 12,  0,  0, 13, 50, 50, 10,  0, 26, 53,  1, 51, 53, 56, 43,\n",
            "         1, 58, 39, 50, 49, 47, 52, 45,  1, 53, 52,  5, 58, 11,  1, 50, 43, 58,\n",
            "         1, 47, 58,  1, 40, 43,  1, 42, 53, 52, 43, 10,  1, 39, 61, 39, 63,  6,\n",
            "         1, 39, 61, 39, 63,  2,  0,  0, 31, 43, 41, 53, 52, 42,  1, 15, 47, 58,\n",
            "        47, 64, 43, 52, 10,  0, 27, 52, 43,  1, 61, 53, 56, 42,  6,  1, 45, 53,\n",
            "        53, 42,  1, 41, 47, 58, 47, 64, 43, 52, 57,  8,  0,  0, 18, 47, 56, 57,\n",
            "        58,  1, 15, 47, 58, 47, 64, 43, 52, 10,  0, 35, 43,  1, 39, 56, 43,  1,\n",
            "        39, 41, 41, 53, 59, 52, 58, 43, 42,  1, 54, 53, 53, 56,  1, 41, 47, 58,\n",
            "        47, 64, 43, 52, 57,  6,  1, 58, 46, 43,  1, 54, 39, 58, 56, 47, 41, 47,\n",
            "        39, 52, 57,  1, 45, 53, 53, 42,  8,  0, 35, 46, 39, 58,  1, 39, 59, 58,\n",
            "        46, 53, 56, 47, 58, 63,  1, 57, 59, 56, 44, 43, 47, 58, 57,  1, 53, 52,\n",
            "         1, 61, 53, 59, 50, 42,  1, 56, 43, 50, 47, 43, 60, 43,  1, 59, 57, 10,\n",
            "         1, 47, 44,  1, 58, 46, 43, 63,  0, 61, 53, 59, 50, 42,  1, 63, 47, 43,\n",
            "        50, 42,  1, 59, 57,  1, 40, 59, 58,  1, 58, 46, 43,  1, 57, 59, 54, 43,\n",
            "        56, 44, 50, 59, 47, 58, 63,  6,  1, 61, 46, 47, 50, 43,  1, 47, 58,  1,\n",
            "        61, 43, 56, 43,  0, 61, 46, 53, 50, 43, 57, 53, 51, 43,  6,  1, 61, 43,\n",
            "         1, 51, 47, 45, 46, 58,  1, 45, 59, 43, 57, 57,  1, 58, 46, 43, 63,  1,\n",
            "        56, 43, 50, 47, 43, 60, 43, 42,  1, 59, 57,  1, 46, 59, 51, 39, 52, 43,\n",
            "        50, 63, 11,  0, 40, 59, 58,  1, 58, 46, 43, 63,  1, 58, 46, 47, 52, 49,\n",
            "         1, 61, 43,  1, 39, 56, 43,  1, 58, 53, 53,  1, 42, 43, 39, 56, 10,  1,\n",
            "        58, 46, 43,  1, 50, 43, 39, 52, 52, 43, 57, 57,  1, 58, 46, 39, 58,  0,\n",
            "        39, 44, 44, 50, 47, 41, 58, 57,  1, 59, 57,  6,  1, 58, 46, 43,  1, 53,\n",
            "        40, 48, 43, 41, 58,  1, 53, 44,  1, 53, 59, 56,  1, 51, 47, 57, 43, 56,\n",
            "        63,  6,  1, 47, 57,  1, 39, 57,  1, 39, 52,  0, 47, 52, 60, 43, 52, 58,\n",
            "        53, 56, 63,  1, 58, 53,  1, 54, 39, 56, 58, 47, 41, 59, 50, 39, 56, 47,\n",
            "        57, 43,  1, 58, 46, 43, 47, 56,  1, 39, 40, 59, 52, 42, 39, 52, 41, 43,\n",
            "        11,  1, 53, 59, 56,  0, 57, 59, 44, 44, 43, 56, 39, 52, 41, 43,  1, 47,\n",
            "        57,  1, 39,  1, 45, 39, 47, 52,  1, 58, 53,  1, 58, 46, 43, 51,  1, 24,\n",
            "        43, 58,  1, 59, 57,  1, 56, 43, 60, 43, 52, 45, 43,  1, 58, 46, 47, 57,\n",
            "         1, 61, 47, 58, 46,  0, 53, 59, 56,  1, 54, 47, 49, 43, 57,  6,  1, 43,\n",
            "        56, 43,  1, 61, 43,  1, 40, 43, 41, 53, 51, 43,  1, 56, 39, 49, 43, 57,\n",
            "        10,  1, 44, 53, 56,  1, 58, 46, 43,  1, 45, 53, 42, 57,  1, 49, 52, 53,\n",
            "        61,  1, 21,  0, 57, 54, 43, 39, 49,  1, 58, 46, 47, 57,  1, 47, 52,  1,\n",
            "        46, 59, 52, 45, 43, 56,  1, 44, 53, 56,  1, 40, 56, 43, 39, 42,  6,  1,\n",
            "        52, 53, 58,  1, 47, 52,  1, 58, 46, 47, 56, 57, 58,  1, 44, 53, 56,  1,\n",
            "        56, 43, 60, 43, 52, 45, 43,  8,  0,  0])\n"
          ]
        }
      ]
    },
    {
      "cell_type": "code",
      "source": [
        "n = int(len(text) * 0.9)\n",
        "training = data[:n]\n",
        "validation = data[n:]"
      ],
      "metadata": {
        "id": "v8UiPN1uSWAB"
      },
      "execution_count": 71,
      "outputs": []
    },
    {
      "cell_type": "code",
      "source": [
        "block_size = 8\n",
        "# The reason to have + 1 is that the model is going to predict the next token.\n",
        "# So based on char at index i, predirct next char at index i + 1.\n",
        "# So block_size + 1 dataset contains block_size number of char pairs [i, i + 1]\n",
        "# to predict.\n",
        "train_data = training[:block_size + 1]"
      ],
      "metadata": {
        "id": "V0CJy3Q4Ukfa"
      },
      "execution_count": 72,
      "outputs": []
    },
    {
      "cell_type": "code",
      "source": [
        "x = train_data[:block_size]\n",
        "y = train_data[1:block_size + 1]\n",
        "for i in range(block_size):\n",
        "  context: torch.tensor = train_data[:i + 1]  # i + 1 is not inclusive\n",
        "  target: int = train_data[i + 1]\n",
        "  print(f\"when input is {context} target is {target}\")"
      ],
      "metadata": {
        "colab": {
          "base_uri": "https://localhost:8080/"
        },
        "id": "3I3BAmA6RpeR",
        "outputId": "b3d47979-c5fd-405a-d995-727fac1fff58"
      },
      "execution_count": 73,
      "outputs": [
        {
          "output_type": "stream",
          "name": "stdout",
          "text": [
            "when input is tensor([18]) target is 47\n",
            "when input is tensor([18, 47]) target is 56\n",
            "when input is tensor([18, 47, 56]) target is 57\n",
            "when input is tensor([18, 47, 56, 57]) target is 58\n",
            "when input is tensor([18, 47, 56, 57, 58]) target is 1\n",
            "when input is tensor([18, 47, 56, 57, 58,  1]) target is 15\n",
            "when input is tensor([18, 47, 56, 57, 58,  1, 15]) target is 47\n",
            "when input is tensor([18, 47, 56, 57, 58,  1, 15, 47]) target is 58\n"
          ]
        }
      ]
    },
    {
      "cell_type": "code",
      "source": [
        "torch.manual_seed(1337)   # Make outcome deterministic\n",
        "batch_size = 4 # how many sequence we are going to process in parallel\n",
        "block_size = 8 # maximum context length to predict the next char\n",
        "\n",
        "def get_batch(split: str) -> tuple[torch.Tensor, torch.Tensor]:\n",
        "  if split == 'train':\n",
        "    data = training\n",
        "  else:\n",
        "    data = validation\n",
        "\n",
        "  ## 4 random generated offsets range from [0, 1115394].\n",
        "  offsets: list[int] = torch.randint(len(data) - block_size, (batch_size, ))\n",
        "\n",
        "  x = torch.stack([data[i:i + block_size] for i in offsets])\n",
        "  y = torch.stack([data[i + 1:i + block_size + 1] for i in offsets])\n",
        "  return x, y\n",
        "\n",
        "xb, yb = get_batch(\"train\")  ## inputs & targets\n",
        "print(\"inputs\", xb, xb.shape) ## 4 by 8 tensor.\n",
        "print(\"targets\", yb, yb.shape)\n",
        "\n",
        "for b in range(batch_size):\n",
        "  for t in range(block_size):\n",
        "    context = xb[b][:t+1]\n",
        "    target = yb[b][t]\n",
        "    print(f\"when input is {context}, the target is {target}\")"
      ],
      "metadata": {
        "colab": {
          "base_uri": "https://localhost:8080/"
        },
        "id": "QAPmKy6hT2zk",
        "outputId": "c155a2eb-3341-4102-bc9e-23afcf66577f"
      },
      "execution_count": 74,
      "outputs": [
        {
          "output_type": "stream",
          "name": "stdout",
          "text": [
            "inputs tensor([[24, 43, 58,  5, 57,  1, 46, 43],\n",
            "        [44, 53, 56,  1, 58, 46, 39, 58],\n",
            "        [52, 58,  1, 58, 46, 39, 58,  1],\n",
            "        [25, 17, 27, 10,  0, 21,  1, 54]]) torch.Size([4, 8])\n",
            "targets tensor([[43, 58,  5, 57,  1, 46, 43, 39],\n",
            "        [53, 56,  1, 58, 46, 39, 58,  1],\n",
            "        [58,  1, 58, 46, 39, 58,  1, 46],\n",
            "        [17, 27, 10,  0, 21,  1, 54, 39]]) torch.Size([4, 8])\n",
            "when input is tensor([24]), the target is 43\n",
            "when input is tensor([24, 43]), the target is 58\n",
            "when input is tensor([24, 43, 58]), the target is 5\n",
            "when input is tensor([24, 43, 58,  5]), the target is 57\n",
            "when input is tensor([24, 43, 58,  5, 57]), the target is 1\n",
            "when input is tensor([24, 43, 58,  5, 57,  1]), the target is 46\n",
            "when input is tensor([24, 43, 58,  5, 57,  1, 46]), the target is 43\n",
            "when input is tensor([24, 43, 58,  5, 57,  1, 46, 43]), the target is 39\n",
            "when input is tensor([44]), the target is 53\n",
            "when input is tensor([44, 53]), the target is 56\n",
            "when input is tensor([44, 53, 56]), the target is 1\n",
            "when input is tensor([44, 53, 56,  1]), the target is 58\n",
            "when input is tensor([44, 53, 56,  1, 58]), the target is 46\n",
            "when input is tensor([44, 53, 56,  1, 58, 46]), the target is 39\n",
            "when input is tensor([44, 53, 56,  1, 58, 46, 39]), the target is 58\n",
            "when input is tensor([44, 53, 56,  1, 58, 46, 39, 58]), the target is 1\n",
            "when input is tensor([52]), the target is 58\n",
            "when input is tensor([52, 58]), the target is 1\n",
            "when input is tensor([52, 58,  1]), the target is 58\n",
            "when input is tensor([52, 58,  1, 58]), the target is 46\n",
            "when input is tensor([52, 58,  1, 58, 46]), the target is 39\n",
            "when input is tensor([52, 58,  1, 58, 46, 39]), the target is 58\n",
            "when input is tensor([52, 58,  1, 58, 46, 39, 58]), the target is 1\n",
            "when input is tensor([52, 58,  1, 58, 46, 39, 58,  1]), the target is 46\n",
            "when input is tensor([25]), the target is 17\n",
            "when input is tensor([25, 17]), the target is 27\n",
            "when input is tensor([25, 17, 27]), the target is 10\n",
            "when input is tensor([25, 17, 27, 10]), the target is 0\n",
            "when input is tensor([25, 17, 27, 10,  0]), the target is 21\n",
            "when input is tensor([25, 17, 27, 10,  0, 21]), the target is 1\n",
            "when input is tensor([25, 17, 27, 10,  0, 21,  1]), the target is 54\n",
            "when input is tensor([25, 17, 27, 10,  0, 21,  1, 54]), the target is 39\n"
          ]
        }
      ]
    },
    {
      "cell_type": "code",
      "source": [
        "import torch\n",
        "import torch.nn as nn\n",
        "from torch.nn import functional as F\n",
        "torch.manual_seed(1337)\n",
        "\n",
        "class BigramLanguageModel(nn.Module):\n",
        "\n",
        "  def __init__(self, vocab_size: int) -> None:\n",
        "    super().__init__()\n",
        "    self.token_embedding_table = nn.Embedding(vocab_size, vocab_size) # A simple lookup table that stores embeddings of a fixed dictionary and size.\n",
        "\n",
        "  def forward(self, idx: list[int], targets: torch.tensor=None) -> tuple[torch.tensor, torch.tensor]:\n",
        "    logits = self.token_embedding_table(idx) # generates a tensor (batch x time x channel)\n",
        "    # batch = 4, time = 8 (the block size), channel = vocab_size\n",
        "\n",
        "    if targets is None:\n",
        "      loss = None\n",
        "    else:\n",
        "      B,T,C = logits.shape\n",
        "      logits = logits.view(B*T,C) # Flatten B,C to make the shape callable to cross_entropy\n",
        "      targets = targets.view(B*T)\n",
        "      loss = F.cross_entropy(logits, targets)\n",
        "      # print(loss)\n",
        "\n",
        "    return logits, loss\n",
        "\n",
        "  def generate(self, idx: list[int], max_new_tokens: int):\n",
        "    for _ in range(max_new_tokens):\n",
        "      logits, loss = self(idx) # pytorch nn.Module define __call__ which will call forward method.\n",
        "      logits = logits[:, -1, :] # : take all，-1 take last. Make logits tensor shape [B, C] => [4, 65]\n",
        "      probs = F.softmax(logits, dim=1) # run softmax on second dimension in logits. The sum of probs will be 1.\n",
        "      idx_next = torch.multinomial(probs, num_samples=1)  # pick one randomly according to prob. shape is [B, 1]\n",
        "      idx=torch.cat((idx, idx_next), dim=1) # generate next token.\n",
        "    return idx\n",
        "\n",
        "\n",
        "m = BigramLanguageModel(vocab_size)\n",
        "logits, loss = m(xb, yb)\n",
        "# print(logits.shape)\n",
        "# print(loss)\n",
        "\n",
        "idx = torch.zeros((1,1), dtype=torch.long)\n",
        "print(idx)\n",
        "print('wtf', m.generate(idx, max_new_tokens=100))\n",
        "print('wtf', m.generate(idx, max_new_tokens=100)[0])\n",
        "print('decode', decode(m.generate(idx, max_new_tokens=100)[0].tolist()))"
      ],
      "metadata": {
        "colab": {
          "base_uri": "https://localhost:8080/"
        },
        "id": "pPHhwdkMXkfX",
        "outputId": "a2342a7e-a856-4eaa-b70f-5d41d26f02e8"
      },
      "execution_count": 75,
      "outputs": [
        {
          "output_type": "stream",
          "name": "stdout",
          "text": [
            "tensor([[0]])\n",
            "wtf tensor([[ 0, 31, 23, 21, 41, 24, 32, 11, 13, 41, 17, 24, 25, 53, 32, 40, 60, 38,\n",
            "         60,  1, 15, 12, 52, 55,  7, 29, 17,  9,  9, 10, 15, 22, 55, 49, 27, 23,\n",
            "         20,  7, 55, 11, 10, 50, 39,  2, 53, 47, 63, 61, 49, 20, 48, 45, 15, 46,\n",
            "         64, 40, 29, 12, 59,  2,  9, 40, 24, 21, 45, 61, 43, 60, 51, 63, 18, 22,\n",
            "         19, 33, 19, 54,  0, 61, 52, 37, 35, 51, 52, 62, 23, 35, 35, 43, 60,  7,\n",
            "         58, 16, 55, 36, 17, 56, 34, 23, 24, 45, 22]])\n",
            "wtf tensor([ 0, 54, 22, 10, 14, 54, 51,  4, 63, 47, 50, 58, 26, 15, 48, 43, 27,  9,\n",
            "        10, 15, 62,  4, 60, 60, 25, 37, 35,  7, 58, 62, 48, 59, 13, 42,  1, 21,\n",
            "        30, 18, 40, 32, 54, 22,  3, 64, 49, 38, 43, 50, 62, 38, 58, 32, 50, 20,\n",
            "        26, 64, 42, 36, 36, 33, 47, 29, 29, 37, 10, 55, 18, 21, 26, 32, 27, 14,\n",
            "        26, 24, 21,  6,  4, 53, 32, 47, 45, 55,  1, 64,  8, 41, 10, 15, 55,  6,\n",
            "        31, 16, 36, 64, 43, 58, 52,  9, 36, 34, 48])\n",
            "decode \n",
            "SBLBcHAUhk&PHdhcOb\n",
            "nhJ?FJU?pRiOLQeUN!BxjPLiq-GJdUV'hsnla!murI!IM?SPNPq?VgC'R\n",
            "pD3cLv-bxn-tL!upg\n",
            "SZ!Uv\n"
          ]
        }
      ]
    },
    {
      "cell_type": "code",
      "source": [
        "optimizer = torch.optim.AdamW(m.parameters(), lr=1e-3) # lr for learning rate"
      ],
      "metadata": {
        "id": "To38dh7xLnBo"
      },
      "execution_count": 76,
      "outputs": []
    },
    {
      "cell_type": "code",
      "source": [
        "batch_size = 32\n",
        "\n",
        "for steps in range(10000):\n",
        "  xb, yb = get_batch('train')\n",
        "\n",
        "  logits, loss = m(xb, yb)\n",
        "  optimizer.zero_grad(set_to_none=True)\n",
        "  loss.backward()\n",
        "  optimizer.step()\n",
        "\n",
        "print(loss.item())\n"
      ],
      "metadata": {
        "colab": {
          "base_uri": "https://localhost:8080/"
        },
        "id": "YWr8a2NYQBCY",
        "outputId": "ec21daf0-bda7-44c5-b736-03b7e70711ba"
      },
      "execution_count": 81,
      "outputs": [
        {
          "output_type": "stream",
          "name": "stdout",
          "text": [
            "2.524625539779663\n"
          ]
        }
      ]
    },
    {
      "cell_type": "code",
      "source": [
        "print('decode', decode(m.generate(torch.zeros((1,1), dtype=torch.long), max_new_tokens=500)[0].tolist()))"
      ],
      "metadata": {
        "colab": {
          "base_uri": "https://localhost:8080/"
        },
        "id": "dAm5tJpBS8uI",
        "outputId": "2e2637fc-8759-4a5c-eaa0-22b0c7452aae"
      },
      "execution_count": 85,
      "outputs": [
        {
          "output_type": "stream",
          "name": "stdout",
          "text": [
            "decode \n",
            "Bovuind y h wit hesanPUEOFr t per\n",
            "\n",
            "Got'anithe toberld, Tht, m. leve.\n",
            "\n",
            "Anins, me ot thteatinksowaitt y ave theloly brice hour e t ce Ifoupie winovejed, g wok hes ms wicadove mitin, CIS:\n",
            "Fa stou m ty, lllin INCI furepe,\n",
            "Whaborlere le atrvicthent. f wat is ure tey\n",
            "Be, theadery s, INCHene falllpo houale akengratho thes H3Th\n",
            "\n",
            "\n",
            "WIIst s nd thousoffose alle las l f pecce.\n",
            "Whandefun w leim wain Fote ind.\n",
            "Poligagin ndurrd br d. tes, f l fe gim ve tor akin'ss s;\n",
            "ver btino!\n",
            "thif ithap p lorslithouthioupl bo\n"
          ]
        }
      ]
    }
  ]
}